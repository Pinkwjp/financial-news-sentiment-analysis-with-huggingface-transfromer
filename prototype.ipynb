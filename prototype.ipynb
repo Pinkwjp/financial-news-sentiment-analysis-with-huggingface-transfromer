{
 "cells": [
  {
   "cell_type": "code",
   "execution_count": 1,
   "metadata": {},
   "outputs": [],
   "source": [
    "from GoogleNews import GoogleNews\n",
    "googlenews = GoogleNews()"
   ]
  },
  {
   "cell_type": "code",
   "execution_count": 2,
   "metadata": {},
   "outputs": [
    {
     "name": "stdout",
     "output_type": "stream",
     "text": [
      "1.6.15\n"
     ]
    }
   ],
   "source": [
    "print(googlenews.getVersion())"
   ]
  },
  {
   "cell_type": "code",
   "execution_count": 3,
   "metadata": {},
   "outputs": [],
   "source": [
    "googlenews.enableException(True)"
   ]
  },
  {
   "cell_type": "code",
   "execution_count": 4,
   "metadata": {},
   "outputs": [],
   "source": [
    "googlenews = GoogleNews(lang='en', region='US')"
   ]
  },
  {
   "cell_type": "code",
   "execution_count": 5,
   "metadata": {},
   "outputs": [],
   "source": [
    "googlenews.get_news('TSLA')"
   ]
  },
  {
   "cell_type": "code",
   "execution_count": 7,
   "metadata": {},
   "outputs": [],
   "source": [
    "tsla_news = googlenews.results()"
   ]
  },
  {
   "cell_type": "code",
   "execution_count": 8,
   "metadata": {},
   "outputs": [
    {
     "data": {
      "text/plain": [
       "100"
      ]
     },
     "execution_count": 8,
     "metadata": {},
     "output_type": "execute_result"
    }
   ],
   "source": [
    "len(tsla_news)"
   ]
  },
  {
   "cell_type": "code",
   "execution_count": 9,
   "metadata": {},
   "outputs": [
    {
     "data": {
      "text/plain": [
       "{'title': 'Tesla (TSLA) valuation surges to equal next 10 biggest automakers over Trump/Musk relationship',\n",
       " 'desc': None,\n",
       " 'date': '3 hours ago',\n",
       " 'datetime': datetime.datetime(2024, 11, 8, 13, 34, 2, 361852),\n",
       " 'link': 'https://news.google.com/read/CBMitgFBVV95cUxONDc5SncyRjkxWTI0UlQ0NFdGSEVZX0dtVHpkZ01UQzM3ZEJ5ODdMNkkwcl90SHVQblJlNGlQSWxSNzQ5cmNZbWlKd2tFX045ZjhWZmpDU2l4MEtIQzJodk4xWDF0WEhKYzZPWGkwM0FKcVRPVkFaemlQbmJDejA2RGFDc3JGYVB1TG1BWG9BczZEOXBkRXZmLTlXZzdUM0ZDM0dScWtaajZPTEVoZE5TUHU4MnMxdw?hl=en-CA&gl=CA&ceid=CA%3Aen',\n",
       " 'img': 'https://news.google.com/api/attachments/CC8iJ0NnNXVhRzFMVldndFdYWnRTekJ6VFJDY0FSakRBaWdCTWdNQlFnNA=-w200-h112-p-df',\n",
       " 'media': 'Electrek.co',\n",
       " 'site': None,\n",
       " 'reporter': 'By Fred Lambert'}"
      ]
     },
     "execution_count": 9,
     "metadata": {},
     "output_type": "execute_result"
    }
   ],
   "source": [
    "tsla_news[0]"
   ]
  },
  {
   "cell_type": "code",
   "execution_count": 10,
   "metadata": {},
   "outputs": [
    {
     "data": {
      "text/plain": [
       "{'title': 'Tesla shares (TSLA) gets 32% price target hike from Bank of America',\n",
       " 'desc': None,\n",
       " 'date': 'Yesterday',\n",
       " 'datetime': datetime.datetime(2024, 11, 7, 16, 34, 2, 362324),\n",
       " 'link': 'https://news.google.com/read/CBMiigFBVV95cUxQMjM0RmltaDQ3eFlaTFVpYkZ2aER1MDFjYlJfYW1Pa0tzU1VudXVMYU10S0RNalNhcm9GbnNYZmRab1RNcWd1U3FfRG13czdsQXQzamh0T0FjSlB5UHJQVHlBUzlEMXhPeHZsZ09ZMmdJbDBmaEhqQWRaUVZNelV3UVFucndlbVBlNGfSAY8BQVVfeXFMTTBSMFphVHdsYUJ1WmctQ0lkMG9vVUxPOE1JRXhXZ1RqaXJDcnUzajdueTNJU1gtMUxveVdveUF2bG0wNkh1di1hX0NFdWNVSWpXWXpVdmo0SkIwZkJBZEhhSGpHQ0I2aVFtT3RWUmZyUWlkUEFuek1HVlJhdmFRTnVaWVpGMm81RDZiZE5UMVU?hl=en-CA&gl=CA&ceid=CA%3Aen',\n",
       " 'img': 'https://news.google.com/api/attachments/CC8iL0NnNVlhbHBXVjNCTWMyRlBVSGRaVFJEQ0FSaURBaWdCTWdrQk1JYXR6V043S3dJ=-w200-h112-p-df',\n",
       " 'media': 'TESLARATI',\n",
       " 'site': None,\n",
       " 'reporter': 'By Simon Alvarez'}"
      ]
     },
     "execution_count": 10,
     "metadata": {},
     "output_type": "execute_result"
    }
   ],
   "source": [
    "tsla_news[1]"
   ]
  }
 ],
 "metadata": {
  "kernelspec": {
   "display_name": "financial-news-sentiment-analysis-with-hug-Ut_n9LaL",
   "language": "python",
   "name": "python3"
  },
  "language_info": {
   "codemirror_mode": {
    "name": "ipython",
    "version": 3
   },
   "file_extension": ".py",
   "mimetype": "text/x-python",
   "name": "python",
   "nbconvert_exporter": "python",
   "pygments_lexer": "ipython3",
   "version": "3.12.7"
  }
 },
 "nbformat": 4,
 "nbformat_minor": 2
}
