{
 "cells": [
  {
   "cell_type": "code",
   "execution_count": 3,
   "metadata": {},
   "outputs": [
    {
     "name": "stdout",
     "output_type": "stream",
     "text": [
      "1.6.15\n"
     ]
    }
   ],
   "source": [
    "from GoogleNews import GoogleNews\n",
    "googlenews = GoogleNews()\n",
    "print(googlenews.getVersion())"
   ]
  },
  {
   "cell_type": "code",
   "execution_count": 4,
   "metadata": {},
   "outputs": [],
   "source": [
    "googlenews.enableException(True)\n",
    "googlenews = GoogleNews(lang='en', region='US')"
   ]
  },
  {
   "cell_type": "code",
   "execution_count": 5,
   "metadata": {},
   "outputs": [],
   "source": [
    "# Clear result list before doing another search with the same object\n",
    "googlenews.clear()\n",
    "googlenews.get_news('KLG') # 'OGN'  'TSLA'  'KLG'"
   ]
  },
  {
   "cell_type": "code",
   "execution_count": 6,
   "metadata": {},
   "outputs": [
    {
     "data": {
      "text/plain": [
       "59"
      ]
     },
     "execution_count": 6,
     "metadata": {},
     "output_type": "execute_result"
    }
   ],
   "source": [
    "news = googlenews.results()\n",
    "len(news)"
   ]
  },
  {
   "cell_type": "code",
   "execution_count": 7,
   "metadata": {},
   "outputs": [
    {
     "data": {
      "text/plain": [
       "{'title': 'These 4 Measures Indicate That WK Kellogg Co (NYSE:KLG) Is Using Debt Reasonably Well',\n",
       " 'desc': None,\n",
       " 'date': 'Yesterday',\n",
       " 'datetime': datetime.datetime(2024, 11, 8, 14, 15, 36, 216090),\n",
       " 'link': 'https://news.google.com/read/CBMi2gFBVV95cUxOZTJoUFJDNVpLd3owU0hSQVNZUVphLWg5RlpwYkRLNC1obkkyYVA3bG5wSE5aRGF6bTliS3NGNVRrSTRhVjZXNXpFMzUwcTl3VWxTZ2oydzk0d2g4N2VKekhRYkFCQlpLUDBRRE9ldFdjNXJCSWV2eFB1YjlpdFhKZHNmdjJjaG1RdkZJSGhZdjNRWlRfOEdfTC1nVWxjTUZnWnJfNnJ6bGxnMzh0WDFGcEJoZ3ZnSUR6c1NvcEZRMXNyVUdiT0tJVjQwVFJKb3Rnb2tzMVhSMWZZQdIB3wFBVV95cUxQaHlhcjRkYXMyYkdod0xNakNvOTVNdHFoY2VfaWtWM0hhOURwQzFiNWx4VFhEWE9QWjRpdEZOdEpjaXZwbm1nc0tZdEVyUjA0WFpPcVlXSTZMb1V4eUNnRTFWd0RRZmhXdFVkOWNOWTkwMmRvcHNwb2I1bFdGd3RLQWsxcnVETzk4dWFua0pGV1lta05obmFheHdWVDJmVmh2dmhGTkZSVVBFMkdlRVlvWk1ueDdvSUZVODUyczZSNUdJdTYyemswQ1h6NHNYa1BZTDgtdjU0OVd1dXJHcjdv?hl=en-CA&gl=CA&ceid=CA%3Aen',\n",
       " 'img': 'https://news.google.com/api/attachments/CC8iK0NnNVJjRkUzZFdwc1ZqRTVjVmR2VFJDSEFSajJBaWdCTWdhaElvWlFRUVE=-w200-h112-p-df',\n",
       " 'media': 'Simply Wall St',\n",
       " 'site': None,\n",
       " 'reporter': None}"
      ]
     },
     "execution_count": 7,
     "metadata": {},
     "output_type": "execute_result"
    }
   ],
   "source": [
    "news[0]"
   ]
  },
  {
   "cell_type": "code",
   "execution_count": 8,
   "metadata": {},
   "outputs": [
    {
     "data": {
      "text/plain": [
       "{'title': \"A Look at WK Kellogg's Upcoming Earnings Report\",\n",
       " 'desc': None,\n",
       " 'date': '3 days ago',\n",
       " 'datetime': datetime.datetime(2024, 11, 6, 14, 15, 36, 217295),\n",
       " 'link': 'https://news.google.com/read/CBMipwFBVV95cUxNTDZZUVEzd19JdmVaUW9aQUFIVmlYdmx0RHZVUktsbF9OZW4tMzhMdTFJQWdqYmllMHFjX0hLbFZ1Nm5Gc2g2SE9YcFFYaTYzZnJkMjJvc2ptWU9JZ2JYSzQ4SS1jV2dmaDNaM1N5REUzclMzTWROcEpQc1FKbHk5TlljUjViTG14U1RBNjlyYVRwVERyUXlTa18za3NKVkJTb0FMSEJsZw?hl=en-CA&gl=CA&ceid=CA%3Aen',\n",
       " 'img': 'https://news.google.com/api/attachments/CC8iI0NnNWtTRlZLUVU1NVVrNVNMVll0VFJDLUFSaUtBaWdCTWdB=-w200-h112-p-df',\n",
       " 'media': 'Benzinga',\n",
       " 'site': None,\n",
       " 'reporter': None}"
      ]
     },
     "execution_count": 8,
     "metadata": {},
     "output_type": "execute_result"
    }
   ],
   "source": [
    "news[1]"
   ]
  },
  {
   "cell_type": "code",
   "execution_count": 9,
   "metadata": {},
   "outputs": [
    {
     "data": {
      "text/plain": [
       "{'title': 'WK Kellogg Co Declares Quarterly Dividend of $0.16 per Share',\n",
       " 'desc': None,\n",
       " 'date': 'Oct 31',\n",
       " 'datetime': nan,\n",
       " 'link': 'https://news.google.com/read/CBMiqwFBVV95cUxNMTktRE5QVjlFdWI4VVRKM3E1LVFxOGN3N0lueVZYV3ZfeHd6OEdoVU51TGxrWmhPNEVjWHJsVlRZUzhpbXFraTZIVzVHU3dJa3dCemhUUnNkTjUxbUVDbTRrME5nMUZObWVOTnNYbjBtakNVMHNFazFOWDhxcko0a3J4S0UzQmpqeUUzaEFoWHA3U0xIWTRJRXJnNjdMYkJnWXJsUDkwNzRhOVU?hl=en-CA&gl=CA&ceid=CA%3Aen',\n",
       " 'img': 'https://news.google.com/api/attachments/CC8iL0NnNDFlVVk1VVRKb2EwcGhkbGR5VFJEaEFSamhBU2dCTWdrVlU0eEpyV1ZycVFJ=-w200-h112-p-df',\n",
       " 'media': 'StockTitan',\n",
       " 'site': None,\n",
       " 'reporter': None}"
      ]
     },
     "execution_count": 9,
     "metadata": {},
     "output_type": "execute_result"
    }
   ],
   "source": [
    "news[2]"
   ]
  },
  {
   "cell_type": "code",
   "execution_count": 10,
   "metadata": {},
   "outputs": [
    {
     "data": {
      "text/plain": [
       "{'title': 'KLG Architects uses thick walls for coastal \"sanctuary\" in South Africa',\n",
       " 'desc': None,\n",
       " 'date': 'Oct 25',\n",
       " 'datetime': nan,\n",
       " 'link': 'https://news.google.com/read/CBMiiwFBVV95cUxOY1lTczcxaVhkYUtYUVRTelIwOFRvZkpCMHhXNk5RNGxXMVNwSDdQOVhLWHZGaEZ1d05OaWdZQ3pOcklNZml1SFVoQlN6T2NwLVZKcENRS0NoYlhrLU1pMzh4VW8tMkwzSkE4bDRDeHQ2V2xVMHpTNkpTelNUMmVlejZQdFo4YkZ3YlBv?hl=en-CA&gl=CA&ceid=CA%3Aen',\n",
       " 'img': 'https://news.google.com/api/attachments/CC8iK0NnNWhOV0p3TnpSM1Z6ZE1ZbW95VFJDb0FSaXNBaWdCTWdZcHNJak93QU0=-w200-h112-p-df',\n",
       " 'media': 'Dezeen',\n",
       " 'site': None,\n",
       " 'reporter': 'By Jon Astbury'}"
      ]
     },
     "execution_count": 10,
     "metadata": {},
     "output_type": "execute_result"
    }
   ],
   "source": [
    "news[3]"
   ]
  },
  {
   "cell_type": "code",
   "execution_count": 11,
   "metadata": {},
   "outputs": [
    {
     "data": {
      "text/plain": [
       "'KLG Architects uses thick walls for coastal \"sanctuary\" in South Africa'"
      ]
     },
     "execution_count": 11,
     "metadata": {},
     "output_type": "execute_result"
    }
   ],
   "source": [
    "news_title = news[3]['title']\n",
    "news_title"
   ]
  },
  {
   "cell_type": "code",
   "execution_count": 2,
   "metadata": {},
   "outputs": [],
   "source": [
    "from transformers import pipeline \n",
    "\n",
    "model_id = \"mrm8488/distilroberta-finetuned-financial-news-sentiment-analysis\"\n",
    "classifier = pipeline(\"text-classification\", model=model_id)"
   ]
  },
  {
   "cell_type": "code",
   "execution_count": 12,
   "metadata": {},
   "outputs": [
    {
     "data": {
      "text/plain": [
       "[{'label': 'neutral', 'score': 0.9998880624771118}]"
      ]
     },
     "execution_count": 12,
     "metadata": {},
     "output_type": "execute_result"
    }
   ],
   "source": [
    "classifier(news_title)"
   ]
  }
 ],
 "metadata": {
  "kernelspec": {
   "display_name": "financial-news-sentiment-analysis-with-hug-Ut_n9LaL",
   "language": "python",
   "name": "python3"
  },
  "language_info": {
   "codemirror_mode": {
    "name": "ipython",
    "version": 3
   },
   "file_extension": ".py",
   "mimetype": "text/x-python",
   "name": "python",
   "nbconvert_exporter": "python",
   "pygments_lexer": "ipython3",
   "version": "3.12.7"
  }
 },
 "nbformat": 4,
 "nbformat_minor": 2
}
