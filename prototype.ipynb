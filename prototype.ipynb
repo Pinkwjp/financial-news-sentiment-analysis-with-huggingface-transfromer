{
 "cells": [
  {
   "cell_type": "code",
   "execution_count": 31,
   "metadata": {},
   "outputs": [],
   "source": [
    "from GoogleNews import GoogleNews\n",
    "\n",
    "def fetch_company_news(company: str, lang='en', reigon='US') -> list:\n",
    "    \"\"\"to ensure better search results, use a specific company name\"\"\"\n",
    "    googlenews = GoogleNews()\n",
    "    googlenews.enableException(True)\n",
    "    googlenews = GoogleNews(lang=lang, region=reigon)\n",
    "    googlenews.clear()\n",
    "    googlenews.get_news(company)\n",
    "    return googlenews.results()"
   ]
  },
  {
   "cell_type": "code",
   "execution_count": 32,
   "metadata": {},
   "outputs": [
    {
     "data": {
      "text/plain": [
       "{'title': 'Official: Barcelona announce new Nike kit agreement',\n",
       " 'desc': None,\n",
       " 'date': 'Yesterday',\n",
       " 'datetime': datetime.datetime(2024, 11, 9, 12, 59, 37, 891338),\n",
       " 'link': 'https://news.google.com/read/CBMijAFBVV95cUxQUlZoVTJheUdkUUJ5TEtKQ0dUMUFlUGY5RHlnalBZUmJaQVIxa0xpbmlFSlhZeEdpUmxXM3FoaS14RnhBVEdLZ24tYjVLSnZ1YXpER25hTmdoYnZUSjlqUUUyTll2SWdJOERLa2lMSFZnbzVIazhoYWpvaXNkaXFMbzNCdHRHYkotYzRxTw?hl=en-CA&gl=CA&ceid=CA%3Aen',\n",
       " 'img': 'https://news.google.com/api/attachments/CC8iK0NnNXVhMDVHT1VveVlYWmFZaloxVFJDM0FSaVRBaWdCTWdhdFpKS1ByUWM=-w64-h64-p-df',\n",
       " 'media': 'Yahoo Canada Sports',\n",
       " 'site': None,\n",
       " 'reporter': None}"
      ]
     },
     "execution_count": 32,
     "metadata": {},
     "output_type": "execute_result"
    }
   ],
   "source": [
    "news = fetch_company_news('Nike')\n",
    "news[0]"
   ]
  },
  {
   "cell_type": "code",
   "execution_count": 33,
   "metadata": {},
   "outputs": [],
   "source": [
    "import pandas as pd\n",
    "\n",
    "news_df = pd.DataFrame(news)"
   ]
  },
  {
   "cell_type": "code",
   "execution_count": null,
   "metadata": {},
   "outputs": [
    {
     "data": {
      "text/plain": [
       "0     Official: Barcelona announce new Nike kit agre...\n",
       "1     FC Barcelona’s New Nike Deal Still Won’t Be En...\n",
       "2     Barcelona Signs Extension With Nike Worth More...\n",
       "3     Nike's New Icy Jordan 4 \"Skate Shoe\" Is Too Chill\n",
       "4     Nike Increasing Prices on Kobe Bryant's Sneake...\n",
       "                            ...                        \n",
       "94    New historic sponsorship contract for Barcelon...\n",
       "95    Nike Brings Icy “Glacier Blue” To The Air Forc...\n",
       "96    Did Nike Butcher Michael Jordan's Most Iconic ...\n",
       "97    Nike’s Commitment to Supporting Athletes Conti...\n",
       "98    Former employee sues Nike, former co-worker ov...\n",
       "Name: title, Length: 99, dtype: object"
      ]
     },
     "execution_count": 34,
     "metadata": {},
     "output_type": "execute_result"
    }
   ],
   "source": [
    "\n",
    "news_df['title']"
   ]
  },
  {
   "cell_type": "code",
   "execution_count": null,
   "metadata": {},
   "outputs": [],
   "source": [
    "from transformers import pipeline \n",
    "\n",
    "# link for the model:\n",
    "# https://huggingface.co/mrm8488/distilroberta-finetuned-financial-news-sentiment-analysis\n",
    "MODEL_ID = \"mrm8488/distilroberta-finetuned-financial-news-sentiment-analysis\"\n",
    "\n",
    "\n",
    "def created_classifier_pipeline():\n",
    "    return pipeline(\"text-classification\", model=MODEL_ID)"
   ]
  },
  {
   "cell_type": "code",
   "execution_count": 35,
   "metadata": {},
   "outputs": [],
   "source": [
    "from transformers import pipeline \n",
    "\n",
    "model_id = \"mrm8488/distilroberta-finetuned-financial-news-sentiment-analysis\"\n",
    "classifier = pipeline(\"text-classification\", model=model_id)"
   ]
  },
  {
   "cell_type": "code",
   "execution_count": 36,
   "metadata": {},
   "outputs": [],
   "source": [
    "sentiments = classifier(news_df['title'].to_list())"
   ]
  },
  {
   "cell_type": "code",
   "execution_count": 37,
   "metadata": {},
   "outputs": [],
   "source": [
    "sentiments_df = pd.DataFrame(sentiments)"
   ]
  },
  {
   "cell_type": "code",
   "execution_count": 38,
   "metadata": {},
   "outputs": [],
   "source": [
    "news_and_sentiments = pd.concat([news_df, sentiments_df], axis=1)"
   ]
  },
  {
   "cell_type": "code",
   "execution_count": 39,
   "metadata": {},
   "outputs": [
    {
     "data": {
      "text/html": [
       "<div>\n",
       "<style scoped>\n",
       "    .dataframe tbody tr th:only-of-type {\n",
       "        vertical-align: middle;\n",
       "    }\n",
       "\n",
       "    .dataframe tbody tr th {\n",
       "        vertical-align: top;\n",
       "    }\n",
       "\n",
       "    .dataframe thead th {\n",
       "        text-align: right;\n",
       "    }\n",
       "</style>\n",
       "<table border=\"1\" class=\"dataframe\">\n",
       "  <thead>\n",
       "    <tr style=\"text-align: right;\">\n",
       "      <th></th>\n",
       "      <th>title</th>\n",
       "      <th>desc</th>\n",
       "      <th>date</th>\n",
       "      <th>datetime</th>\n",
       "      <th>link</th>\n",
       "      <th>img</th>\n",
       "      <th>media</th>\n",
       "      <th>site</th>\n",
       "      <th>reporter</th>\n",
       "      <th>label</th>\n",
       "      <th>score</th>\n",
       "    </tr>\n",
       "  </thead>\n",
       "  <tbody>\n",
       "    <tr>\n",
       "      <th>0</th>\n",
       "      <td>Official: Barcelona announce new Nike kit agre...</td>\n",
       "      <td>None</td>\n",
       "      <td>Yesterday</td>\n",
       "      <td>2024-11-09 12:59:37.891338</td>\n",
       "      <td>https://news.google.com/read/CBMijAFBVV95cUxQU...</td>\n",
       "      <td>https://news.google.com/api/attachments/CC8iK0...</td>\n",
       "      <td>Yahoo Canada Sports</td>\n",
       "      <td>None</td>\n",
       "      <td>None</td>\n",
       "      <td>neutral</td>\n",
       "      <td>0.903350</td>\n",
       "    </tr>\n",
       "    <tr>\n",
       "      <th>1</th>\n",
       "      <td>FC Barcelona’s New Nike Deal Still Won’t Be En...</td>\n",
       "      <td>None</td>\n",
       "      <td>Yesterday</td>\n",
       "      <td>2024-11-09 12:59:37.893396</td>\n",
       "      <td>https://news.google.com/read/CBMiwwFBVV95cUxQV...</td>\n",
       "      <td>https://news.google.com/api/attachments/CC8iK0...</td>\n",
       "      <td>Forbes</td>\n",
       "      <td>None</td>\n",
       "      <td>By Tom Sanderson</td>\n",
       "      <td>neutral</td>\n",
       "      <td>0.996731</td>\n",
       "    </tr>\n",
       "    <tr>\n",
       "      <th>2</th>\n",
       "      <td>Barcelona Signs Extension With Nike Worth More...</td>\n",
       "      <td>None</td>\n",
       "      <td>14 hours ago</td>\n",
       "      <td>2024-11-09 22:59:37.894556</td>\n",
       "      <td>https://news.google.com/read/CBMiqgFBVV95cUxPc...</td>\n",
       "      <td>https://news.google.com/api/attachments/CC8iK0...</td>\n",
       "      <td>RealGM</td>\n",
       "      <td>None</td>\n",
       "      <td>By Samuel Marsden &amp; Moises Llorens</td>\n",
       "      <td>positive</td>\n",
       "      <td>0.994990</td>\n",
       "    </tr>\n",
       "    <tr>\n",
       "      <th>3</th>\n",
       "      <td>Nike's New Icy Jordan 4 \"Skate Shoe\" Is Too Chill</td>\n",
       "      <td>None</td>\n",
       "      <td>2 hours ago</td>\n",
       "      <td>2024-11-10 10:59:37.895778</td>\n",
       "      <td>https://news.google.com/read/CBMiaEFVX3lxTE4yT...</td>\n",
       "      <td>https://news.google.com/api/attachments/CC8iI0...</td>\n",
       "      <td>Highsnobiety</td>\n",
       "      <td>None</td>\n",
       "      <td>By Tara Larson</td>\n",
       "      <td>neutral</td>\n",
       "      <td>0.995260</td>\n",
       "    </tr>\n",
       "    <tr>\n",
       "      <th>4</th>\n",
       "      <td>Nike Increasing Prices on Kobe Bryant's Sneake...</td>\n",
       "      <td>None</td>\n",
       "      <td>3 days ago</td>\n",
       "      <td>2024-11-07 12:59:37.896869</td>\n",
       "      <td>https://news.google.com/read/CBMingFBVV95cUxOR...</td>\n",
       "      <td>https://news.google.com/api/attachments/CC8iK0...</td>\n",
       "      <td>Sports Illustrated</td>\n",
       "      <td>None</td>\n",
       "      <td>By Pat Benson</td>\n",
       "      <td>neutral</td>\n",
       "      <td>0.865569</td>\n",
       "    </tr>\n",
       "  </tbody>\n",
       "</table>\n",
       "</div>"
      ],
      "text/plain": [
       "                                               title  desc          date  \\\n",
       "0  Official: Barcelona announce new Nike kit agre...  None     Yesterday   \n",
       "1  FC Barcelona’s New Nike Deal Still Won’t Be En...  None     Yesterday   \n",
       "2  Barcelona Signs Extension With Nike Worth More...  None  14 hours ago   \n",
       "3  Nike's New Icy Jordan 4 \"Skate Shoe\" Is Too Chill  None   2 hours ago   \n",
       "4  Nike Increasing Prices on Kobe Bryant's Sneake...  None    3 days ago   \n",
       "\n",
       "                    datetime  \\\n",
       "0 2024-11-09 12:59:37.891338   \n",
       "1 2024-11-09 12:59:37.893396   \n",
       "2 2024-11-09 22:59:37.894556   \n",
       "3 2024-11-10 10:59:37.895778   \n",
       "4 2024-11-07 12:59:37.896869   \n",
       "\n",
       "                                                link  \\\n",
       "0  https://news.google.com/read/CBMijAFBVV95cUxQU...   \n",
       "1  https://news.google.com/read/CBMiwwFBVV95cUxQV...   \n",
       "2  https://news.google.com/read/CBMiqgFBVV95cUxPc...   \n",
       "3  https://news.google.com/read/CBMiaEFVX3lxTE4yT...   \n",
       "4  https://news.google.com/read/CBMingFBVV95cUxOR...   \n",
       "\n",
       "                                                 img                media  \\\n",
       "0  https://news.google.com/api/attachments/CC8iK0...  Yahoo Canada Sports   \n",
       "1  https://news.google.com/api/attachments/CC8iK0...               Forbes   \n",
       "2  https://news.google.com/api/attachments/CC8iK0...               RealGM   \n",
       "3  https://news.google.com/api/attachments/CC8iI0...         Highsnobiety   \n",
       "4  https://news.google.com/api/attachments/CC8iK0...   Sports Illustrated   \n",
       "\n",
       "   site                            reporter     label     score  \n",
       "0  None                                None   neutral  0.903350  \n",
       "1  None                    By Tom Sanderson   neutral  0.996731  \n",
       "2  None  By Samuel Marsden & Moises Llorens  positive  0.994990  \n",
       "3  None                      By Tara Larson   neutral  0.995260  \n",
       "4  None                       By Pat Benson   neutral  0.865569  "
      ]
     },
     "execution_count": 39,
     "metadata": {},
     "output_type": "execute_result"
    }
   ],
   "source": [
    "news_and_sentiments.head()"
   ]
  },
  {
   "cell_type": "code",
   "execution_count": null,
   "metadata": {},
   "outputs": [],
   "source": []
  }
 ],
 "metadata": {
  "kernelspec": {
   "display_name": "financial-news-sentiment-analysis-with-hug-Ut_n9LaL",
   "language": "python",
   "name": "python3"
  },
  "language_info": {
   "codemirror_mode": {
    "name": "ipython",
    "version": 3
   },
   "file_extension": ".py",
   "mimetype": "text/x-python",
   "name": "python",
   "nbconvert_exporter": "python",
   "pygments_lexer": "ipython3",
   "version": "3.12.7"
  }
 },
 "nbformat": 4,
 "nbformat_minor": 2
}
